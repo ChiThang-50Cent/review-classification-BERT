{
  "nbformat": 4,
  "nbformat_minor": 0,
  "metadata": {
    "colab": {
      "provenance": []
    },
    "kernelspec": {
      "name": "python3",
      "display_name": "Python 3"
    },
    "language_info": {
      "name": "python"
    }
  },
  "cells": [
    {
      "cell_type": "code",
      "source": [
        "!wget https://raw.githubusercontent.com/ChiThang-50Cent/review-classification-BERT/main/item.json"
      ],
      "metadata": {
        "colab": {
          "base_uri": "https://localhost:8080/"
        },
        "id": "RuaOlcNTxndV",
        "outputId": "745ef191-a19f-48e4-dfb0-d466844eab72"
      },
      "execution_count": 2,
      "outputs": [
        {
          "output_type": "stream",
          "name": "stdout",
          "text": [
            "--2023-10-10 18:17:45--  https://raw.githubusercontent.com/ChiThang-50Cent/review-classification-BERT/main/item.json\n",
            "Resolving raw.githubusercontent.com (raw.githubusercontent.com)... 185.199.108.133, 185.199.109.133, 185.199.110.133, ...\n",
            "Connecting to raw.githubusercontent.com (raw.githubusercontent.com)|185.199.108.133|:443... connected.\n",
            "HTTP request sent, awaiting response... 200 OK\n",
            "Length: 644735 (630K) [text/plain]\n",
            "Saving to: ‘item.json’\n",
            "\n",
            "\ritem.json             0%[                    ]       0  --.-KB/s               \ritem.json           100%[===================>] 629.62K  --.-KB/s    in 0.06s   \n",
            "\n",
            "2023-10-10 18:17:45 (9.96 MB/s) - ‘item.json’ saved [644735/644735]\n",
            "\n"
          ]
        }
      ]
    },
    {
      "cell_type": "code",
      "source": [
        "import json\n",
        "import requests\n",
        "import time\n",
        "import pandas as pd"
      ],
      "metadata": {
        "id": "NqIKKVDqxgnR"
      },
      "execution_count": 52,
      "outputs": []
    },
    {
      "cell_type": "code",
      "source": [
        "f = open('./item.json')\n",
        "data = json.load(f)\n",
        "f.close()"
      ],
      "metadata": {
        "id": "LyWTDvwjxhfd"
      },
      "execution_count": 42,
      "outputs": []
    },
    {
      "cell_type": "code",
      "source": [
        "data.keys()"
      ],
      "metadata": {
        "colab": {
          "base_uri": "https://localhost:8080/"
        },
        "id": "pPdBHcC50JO1",
        "outputId": "78166424-03f9-4306-9da9-2e4039ca0832"
      },
      "execution_count": 43,
      "outputs": [
        {
          "output_type": "execute_result",
          "data": {
            "text/plain": [
              "dict_keys(['key', 'total', 'no_more', 'items'])"
            ]
          },
          "metadata": {},
          "execution_count": 43
        }
      ]
    },
    {
      "cell_type": "code",
      "source": [
        "data['items'][0]"
      ],
      "metadata": {
        "id": "r9-leAFX0J66"
      },
      "execution_count": null,
      "outputs": []
    },
    {
      "cell_type": "code",
      "source": [
        "list_items = []\n",
        "\n",
        "for item in data['items']:\n",
        "  item_info = {}\n",
        "\n",
        "  item_info['itemid'] = item['itemid']\n",
        "  item_info['shopid'] = item['shopid']\n",
        "\n",
        "  list_items.append(item_info)"
      ],
      "metadata": {
        "id": "s238zZ7t0hOP"
      },
      "execution_count": 10,
      "outputs": []
    },
    {
      "cell_type": "code",
      "source": [
        "list_items[0]"
      ],
      "metadata": {
        "colab": {
          "base_uri": "https://localhost:8080/"
        },
        "id": "ZiUegAlO1fof",
        "outputId": "937a321a-e89b-4e74-e97e-2e570fa1902b"
      },
      "execution_count": 11,
      "outputs": [
        {
          "output_type": "execute_result",
          "data": {
            "text/plain": [
              "{'itemid': 22054458454, 'shopid': 76448301}"
            ]
          },
          "metadata": {},
          "execution_count": 11
        }
      ]
    },
    {
      "cell_type": "code",
      "source": [
        "url_to_get_review = 'https://shopee.vn/api/v2/item/get_ratings?exclude_filter=1&filter=0&filter_size=0&flag=1&fold_filter=0&itemid={}&offset=0&relevant_reviews=false&request_source=2&shopid={}&tag_filter=&type={}&variation_filters='\n",
        "\n",
        "review_rate_data = []\n",
        "\n",
        "for label in [0, 1]:\n",
        "  for item in list_items:\n",
        "    res = requests.get(url_to_get_review.format(item['itemid'],\n",
        "                                                item['shopid'],\n",
        "                                                label))\n",
        "    time.sleep(1)\n",
        "    list_reviews = res.json()['data']['ratings']\n",
        "\n",
        "    if list_reviews:\n",
        "      for review in list_reviews:\n",
        "        data_ = []\n",
        "\n",
        "        data_.append(item['itemid'])\n",
        "        data_.append(item['shopid'])\n",
        "        data_.append(review['comment'])\n",
        "        data_.append(review['rating_star'])\n",
        "        data_.append(label)\n",
        "\n",
        "        review_rate_data.append(data_)\n"
      ],
      "metadata": {
        "id": "8s6PIRjP-epW"
      },
      "execution_count": 48,
      "outputs": []
    },
    {
      "cell_type": "code",
      "source": [
        "len(review_rate_data)"
      ],
      "metadata": {
        "colab": {
          "base_uri": "https://localhost:8080/"
        },
        "id": "fFovUKTC4Uyl",
        "outputId": "85d653be-cb8b-45ed-b247-c586ad19ae5b"
      },
      "execution_count": 49,
      "outputs": [
        {
          "output_type": "execute_result",
          "data": {
            "text/plain": [
              "1646"
            ]
          },
          "metadata": {},
          "execution_count": 49
        }
      ]
    },
    {
      "cell_type": "code",
      "source": [
        "review_rate_data[2]"
      ],
      "metadata": {
        "colab": {
          "base_uri": "https://localhost:8080/"
        },
        "id": "qQW3ogpx7UAl",
        "outputId": "9facd1fb-22b3-49ed-cf93-35ff20482fcf"
      },
      "execution_count": 51,
      "outputs": [
        {
          "output_type": "execute_result",
          "data": {
            "text/plain": [
              "[22054458454,\n",
              " 76448301,\n",
              " 'Giao khá nhanh luôn í!! Mình đặt hôm thứ 6 nay thứ 3 nhận đc mặc dù mình ở tphcm còn shop ở hà nội@@ đóng gói khá cẩn thận nguyên hộp bự luôn í bỏ cả mút bên trong rất là cẩn thân… hàng nguyên seal hi vọng là ổn !!! Vì thấy mall nên nghĩ sẽ chất lượng.',\n",
              " 5,\n",
              " 0]"
            ]
          },
          "metadata": {},
          "execution_count": 51
        }
      ]
    },
    {
      "cell_type": "code",
      "source": [
        "df = pd.DataFrame(review_rate_data, columns=['item_id','shop_id','comment','rate_star','label'])"
      ],
      "metadata": {
        "id": "tf-L1jI3COgR"
      },
      "execution_count": 58,
      "outputs": []
    },
    {
      "cell_type": "code",
      "source": [
        "df['label'].value_counts()"
      ],
      "metadata": {
        "colab": {
          "base_uri": "https://localhost:8080/"
        },
        "id": "6iMGXTpWCp5e",
        "outputId": "0c75ecf9-60f0-4a52-cdef-7e2c87c485a0"
      },
      "execution_count": 60,
      "outputs": [
        {
          "output_type": "execute_result",
          "data": {
            "text/plain": [
              "0    1344\n",
              "1     302\n",
              "Name: label, dtype: int64"
            ]
          },
          "metadata": {},
          "execution_count": 60
        }
      ]
    },
    {
      "cell_type": "code",
      "source": [
        "df.to_csv('./shopee_reviews.csv', index=False)"
      ],
      "metadata": {
        "id": "K2xI6_c5Cr6t"
      },
      "execution_count": 61,
      "outputs": []
    }
  ]
}